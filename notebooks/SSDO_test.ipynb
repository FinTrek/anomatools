{
 "cells": [
  {
   "cell_type": "markdown",
   "metadata": {},
   "source": [
    "# Imports"
   ]
  },
  {
   "cell_type": "code",
   "execution_count": 1,
   "metadata": {
    "ExecuteTime": {
     "end_time": "2018-12-03T18:38:30.609059",
     "start_time": "2018-12-03T18:38:30.203160"
    },
    "collapsed": false
   },
   "outputs": [],
   "source": [
    "import numpy as np\n",
    "\n",
    "import matplotlib.pyplot as plt\n",
    "%matplotlib inline"
   ]
  },
  {
   "cell_type": "code",
   "execution_count": 2,
   "metadata": {
    "ExecuteTime": {
     "end_time": "2018-12-03T18:38:30.613018",
     "start_time": "2018-12-03T18:38:30.610309"
    },
    "collapsed": true
   },
   "outputs": [],
   "source": [
    "import warnings\n",
    "warnings.simplefilter(action='ignore', category=FutureWarning)"
   ]
  },
  {
   "cell_type": "markdown",
   "metadata": {},
   "source": [
    "# Generate data"
   ]
  },
  {
   "cell_type": "markdown",
   "metadata": {},
   "source": [
    "Generate a small toy dataset from 3 multivariate Gaussians. Plot the data."
   ]
  },
  {
   "cell_type": "code",
   "execution_count": 3,
   "metadata": {
    "ExecuteTime": {
     "end_time": "2018-12-03T18:38:32.395474",
     "start_time": "2018-12-03T18:38:32.164740"
    },
    "collapsed": false
   },
   "outputs": [
    {
     "data": {
      "text/plain": [
       "[<matplotlib.lines.Line2D at 0x1159e5198>]"
      ]
     },
     "execution_count": 3,
     "metadata": {},
     "output_type": "execute_result"
    },
    {
     "data": {
      "image/png": "[encoded data removed]",
      "text/plain": [
       "<matplotlib.figure.Figure at 0x11397e358>"
      ]
     },
     "metadata": {},
     "output_type": "display_data"
    }
   ],
   "source": [
    "X = np.vstack((np.random.multivariate_normal([-3, -3], [[1, 0], [0, 1]], 100),\n",
    "               np.random.multivariate_normal([3, 2], [[1, 0], [0, 1]], 50),\n",
    "               np.random.multivariate_normal([8, -1], [[1, 0], [0, 1]], 10)))\n",
    "\n",
    "plt.figure()\n",
    "plt.plot(X[:, 0], X[:, 1], 'o', color='blue')"
   ]
  },
  {
   "cell_type": "markdown",
   "metadata": {},
   "source": [
    "We can clearly see the three clusters in the data. Let's call them: cluster 1, 2, and 3 for respectively the cluster with 100, 50, and 10 instances."
   ]
  },
  {
   "cell_type": "markdown",
   "metadata": {},
   "source": [
    "# Detect outliers"
   ]
  },
  {
   "cell_type": "markdown",
   "metadata": {},
   "source": [
    "## Unsupervised SSDO"
   ]
  },
  {
   "cell_type": "markdown",
   "metadata": {},
   "source": [
    "First, lets detect outliers using SSDO without providing any label information. We suspect about 10 percent of the data to be anomalous."
   ]
  },
  {
   "cell_type": "code",
   "execution_count": 5,
   "metadata": {
    "ExecuteTime": {
     "end_time": "2018-12-03T18:38:38.924209",
     "start_time": "2018-12-03T18:38:38.919656"
    },
    "collapsed": false
   },
   "outputs": [],
   "source": [
    "# import SSDO\n",
    "from anomatools.anomaly_detection import SSDO"
   ]
  },
  {
   "cell_type": "code",
   "execution_count": 6,
   "metadata": {
    "ExecuteTime": {
     "end_time": "2018-12-03T18:38:39.557949",
     "start_time": "2018-12-03T18:38:39.500116"
    },
    "collapsed": false
   },
   "outputs": [],
   "source": [
    "# construct detector and find outliers\n",
    "detector = SSDO(n_clusters=3, contamination=0.1)\n",
    "y_score, y_pred = detector.fit_predict(X, None)"
   ]
  },
  {
   "cell_type": "markdown",
   "metadata": {},
   "source": [
    "Let us plot the results: red are the anomalies, and blue are the normals."
   ]
  },
  {
   "cell_type": "code",
   "execution_count": 7,
   "metadata": {
    "ExecuteTime": {
     "end_time": "2018-12-03T18:38:41.271356",
     "start_time": "2018-12-03T18:38:41.063815"
    },
    "collapsed": false
   },
   "outputs": [
    {
     "data": {
      "image/png": "[encoded data removed]",
      "text/plain": [
       "<matplotlib.figure.Figure at 0x1180b1588>"
      ]
     },
     "metadata": {},
     "output_type": "display_data"
    }
   ],
   "source": [
    "plt.figure()\n",
    "for l in [-1, 1]:\n",
    "    ix = np.where(y_pred == l)[0]\n",
    "    c = 'red' if l == 1 else 'blue'\n",
    "    plt.plot(X[ix, 0], X[ix, 1], 'o', color=c)"
   ]
  },
  {
   "cell_type": "markdown",
   "metadata": {},
   "source": [
    "## Semi-supervised SSDO with SSDO unsupervised prior"
   ]
  },
  {
   "cell_type": "markdown",
   "metadata": {},
   "source": [
    "Now let us provide some labels: we, as user, know that cluster 3 is in fact normal, while cluster 2 is anomalous. We can give this information to SSDO. This time, there are actually more anomalies in the data because cluster 2 is larger than cluster 1."
   ]
  },
  {
   "cell_type": "code",
   "execution_count": 8,
   "metadata": {
    "ExecuteTime": {
     "end_time": "2018-12-03T18:38:43.933216",
     "start_time": "2018-12-03T18:38:43.928601"
    },
    "collapsed": false
   },
   "outputs": [],
   "source": [
    "y = np.zeros(X.shape[0], dtype=int)\n",
    "y[-5:] = -1\n",
    "y[-40:-35] = 1"
   ]
  },
  {
   "cell_type": "code",
   "execution_count": 9,
   "metadata": {
    "ExecuteTime": {
     "end_time": "2018-12-03T18:38:44.447753",
     "start_time": "2018-12-03T18:38:44.364342"
    },
    "collapsed": false
   },
   "outputs": [],
   "source": [
    "# construct detector and find outliers\n",
    "detector = SSDO(n_clusters=3, contamination=0.3)\n",
    "y_score, y_pred = detector.fit_predict(X, y)"
   ]
  },
  {
   "cell_type": "markdown",
   "metadata": {},
   "source": [
    "Again, we plot the results. Anomalies are red and normals are blue."
   ]
  },
  {
   "cell_type": "code",
   "execution_count": 10,
   "metadata": {
    "ExecuteTime": {
     "end_time": "2018-12-03T18:38:45.454076",
     "start_time": "2018-12-03T18:38:45.264296"
    },
    "collapsed": false
   },
   "outputs": [
    {
     "data": {
      "image/png": "[encoded data removed]",
      "text/plain": [
       "<matplotlib.figure.Figure at 0x118126400>"
      ]
     },
     "metadata": {},
     "output_type": "display_data"
    }
   ],
   "source": [
    "plt.figure()\n",
    "for l in [-1, 1]:\n",
    "    ix = np.where(y_pred == l)[0]\n",
    "    c = 'red' if l == 1 else 'blue'\n",
    "    plt.plot(X[ix, 0], X[ix, 1], 'o', color=c)"
   ]
  },
  {
   "cell_type": "markdown",
   "metadata": {
    "collapsed": true
   },
   "source": [
    "## Semi-supervised SSDO with iForest unsupervised prior"
   ]
  },
  {
   "cell_type": "markdown",
   "metadata": {},
   "source": [
    "Now we compute the prior using iForest"
   ]
  },
  {
   "cell_type": "code",
   "execution_count": 11,
   "metadata": {
    "ExecuteTime": {
     "end_time": "2018-12-03T18:38:53.640161",
     "start_time": "2018-12-03T18:38:53.463255"
    },
    "collapsed": false
   },
   "outputs": [],
   "source": [
    "from anomatools.anomaly_detection import iForest\n",
    "detector = iForest()\n",
    "prior, _ = detector.fit_predict(X, None)"
   ]
  },
  {
   "cell_type": "markdown",
   "metadata": {},
   "source": [
    "Now we use the prior from iForest in combination with the label information to compute the final anomaly scores."
   ]
  },
  {
   "cell_type": "code",
   "execution_count": 12,
   "metadata": {
    "ExecuteTime": {
     "end_time": "2018-12-03T18:38:54.619842",
     "start_time": "2018-12-03T18:38:54.593231"
    },
    "collapsed": false
   },
   "outputs": [],
   "source": [
    "from anomatools.anomaly_detection import SSDO\n",
    "\n",
    "# construct detector and find outliers\n",
    "detector = SSDO(contamination=0.3, base_classifier='precomputed')\n",
    "y_score, y_pred = detector.fit_predict(X, y, prior=prior)"
   ]
  },
  {
   "cell_type": "code",
   "execution_count": 13,
   "metadata": {
    "ExecuteTime": {
     "end_time": "2018-12-03T18:39:00.282568",
     "start_time": "2018-12-03T18:39:00.081595"
    },
    "collapsed": false
   },
   "outputs": [
    {
     "data": {
      "image/png": "[encoded data removed]",
      "text/plain": [
       "<matplotlib.figure.Figure at 0x1181f8c88>"
      ]
     },
     "metadata": {},
     "output_type": "display_data"
    }
   ],
   "source": [
    "plt.figure()\n",
    "for l in [-1, 1]:\n",
    "    ix = np.where(y_pred == l)[0]\n",
    "    c = 'red' if l == 1 else 'blue'\n",
    "    plt.plot(X[ix, 0], X[ix, 1], 'o', color=c)"
   ]
  },
  {
   "cell_type": "code",
   "execution_count": null,
   "metadata": {
    "collapsed": true
   },
   "outputs": [],
   "source": []
  }
 ],
 "metadata": {
  "kernelspec": {
   "display_name": "Python 3",
   "language": "python",
   "name": "python3"
  },
  "language_info": {
   "codemirror_mode": {
    "name": "ipython",
    "version": 3
   },
   "file_extension": ".py",
   "mimetype": "text/x-python",
   "name": "python",
   "nbconvert_exporter": "python",
   "pygments_lexer": "ipython3",
   "version": "3.5.2"
  },
  "nav_menu": {},
  "toc": {
   "navigate_menu": true,
   "number_sections": true,
   "sideBar": true,
   "threshold": 6,
   "toc_cell": false,
   "toc_section_display": "block",
   "toc_window_display": false
  }
 },
 "nbformat": 4,
 "nbformat_minor": 1
}
