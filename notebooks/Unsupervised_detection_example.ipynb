{
 "cells": [
  {
   "cell_type": "markdown",
   "metadata": {},
   "source": [
    "# Imports"
   ]
  },
  {
   "cell_type": "code",
   "execution_count": 1,
   "metadata": {
    "ExecuteTime": {
     "end_time": "2019-11-19T21:43:32.160565",
     "start_time": "2019-11-19T21:43:31.756797"
    },
    "collapsed": true
   },
   "outputs": [],
   "source": [
    "import numpy as np\n",
    "\n",
    "import matplotlib.pyplot as plt\n",
    "%matplotlib inline"
   ]
  },
  {
   "cell_type": "markdown",
   "metadata": {},
   "source": [
    "# Generate data"
   ]
  },
  {
   "cell_type": "markdown",
   "metadata": {},
   "source": [
    "Generate a small toy dataset from 3 multivariate Gaussians. Plot the data."
   ]
  },
  {
   "cell_type": "code",
   "execution_count": 2,
   "metadata": {
    "ExecuteTime": {
     "end_time": "2019-11-19T21:43:33.305783",
     "start_time": "2019-11-19T21:43:33.075126"
    },
    "collapsed": false
   },
   "outputs": [
    {
     "data": {
      "text/plain": [
       "[<matplotlib.lines.Line2D at 0x1096c6cf8>]"
      ]
     },
     "execution_count": 2,
     "metadata": {},
     "output_type": "execute_result"
    },
    {
     "data": {
      "image/png": "[encoded data removed]",
      "text/plain": [
       "<matplotlib.figure.Figure at 0x109658fd0>"
      ]
     },
     "metadata": {},
     "output_type": "display_data"
    }
   ],
   "source": [
    "X = np.vstack((np.random.multivariate_normal([-3, -3], [[1, 0], [0, 1]], 100),\n",
    "               np.random.multivariate_normal([3, 2], [[1, 0], [0, 1]], 50),\n",
    "               np.random.multivariate_normal([8, -1], [[1, 0], [0, 1]], 10)))\n",
    "np.random.shuffle(X)\n",
    "\n",
    "plt.figure()\n",
    "plt.plot(X[:, 0], X[:, 1], 'o', color='blue')"
   ]
  },
  {
   "cell_type": "markdown",
   "metadata": {},
   "source": [
    "We can clearly see the three clusters in the data. Let's call them: cluster 1, 2, and 3 for respectively the cluster with 100, 50, and 10 instances."
   ]
  },
  {
   "cell_type": "markdown",
   "metadata": {},
   "source": [
    "# Detect outliers"
   ]
  },
  {
   "cell_type": "markdown",
   "metadata": {},
   "source": [
    "## iNNe"
   ]
  },
  {
   "cell_type": "code",
   "execution_count": 6,
   "metadata": {
    "ExecuteTime": {
     "end_time": "2019-11-19T21:43:39.501988",
     "start_time": "2019-11-19T21:43:39.497539"
    },
    "collapsed": false
   },
   "outputs": [],
   "source": [
    "from anomatools.anomaly_detection import INNE"
   ]
  },
  {
   "cell_type": "code",
   "execution_count": 4,
   "metadata": {
    "ExecuteTime": {
     "end_time": "2019-11-19T21:43:37.693277",
     "start_time": "2019-11-19T21:43:37.399635"
    },
    "collapsed": true
   },
   "outputs": [],
   "source": [
    "# construct detector and find outliers\n",
    "detector = INNE(t=200, n=12)\n",
    "y_score, y_pred = detector.fit_predict(X, None)"
   ]
  },
  {
   "cell_type": "code",
   "execution_count": 5,
   "metadata": {
    "ExecuteTime": {
     "end_time": "2019-11-19T21:43:37.937110",
     "start_time": "2019-11-19T21:43:37.694934"
    },
    "collapsed": false
   },
   "outputs": [
    {
     "data": {
      "image/png": "[encoded data removed]",
      "text/plain": [
       "<matplotlib.figure.Figure at 0x11433ea58>"
      ]
     },
     "metadata": {},
     "output_type": "display_data"
    }
   ],
   "source": [
    "plt.figure()\n",
    "for l in [-1, 1]:\n",
    "    ix = np.where(y_pred == l)[0]\n",
    "    c = 'red' if l == 1 else 'blue'\n",
    "    plt.plot(X[ix, 0], X[ix, 1], 'o', color=c)"
   ]
  },
  {
   "cell_type": "markdown",
   "metadata": {},
   "source": [
    "## kNNo"
   ]
  },
  {
   "cell_type": "code",
   "execution_count": 7,
   "metadata": {
    "ExecuteTime": {
     "end_time": "2019-11-19T21:43:41.132804",
     "start_time": "2019-11-19T21:43:41.129536"
    },
    "collapsed": true
   },
   "outputs": [],
   "source": [
    "from anomatools.anomaly_detection import KNNO"
   ]
  },
  {
   "cell_type": "code",
   "execution_count": 8,
   "metadata": {
    "ExecuteTime": {
     "end_time": "2019-11-19T21:43:41.492302",
     "start_time": "2019-11-19T21:43:41.469106"
    },
    "collapsed": false
   },
   "outputs": [],
   "source": [
    "# construct detector and find outliers\n",
    "detector = KNNO(k=10)\n",
    "y_score, y_pred = detector.fit_predict(X, None)"
   ]
  },
  {
   "cell_type": "code",
   "execution_count": 9,
   "metadata": {
    "ExecuteTime": {
     "end_time": "2019-11-19T21:43:41.981023",
     "start_time": "2019-11-19T21:43:41.762737"
    },
    "collapsed": false
   },
   "outputs": [
    {
     "data": {
      "image/png": "[encoded data removed]",
      "text/plain": [
       "<matplotlib.figure.Figure at 0x114268e48>"
      ]
     },
     "metadata": {},
     "output_type": "display_data"
    }
   ],
   "source": [
    "plt.figure()\n",
    "for l in [-1, 1]:\n",
    "    ix = np.where(y_pred == l)[0]\n",
    "    c = 'red' if l == 1 else 'blue'\n",
    "    plt.plot(X[ix, 0], X[ix, 1], 'o', color=c)"
   ]
  },
  {
   "cell_type": "markdown",
   "metadata": {
    "collapsed": true
   },
   "source": [
    "## Unsupervised SSDO"
   ]
  },
  {
   "cell_type": "code",
   "execution_count": 10,
   "metadata": {
    "ExecuteTime": {
     "end_time": "2019-11-19T21:43:43.749576",
     "start_time": "2019-11-19T21:43:43.741629"
    },
    "collapsed": true
   },
   "outputs": [],
   "source": [
    "from anomatools.anomaly_detection import SSDO"
   ]
  },
  {
   "cell_type": "code",
   "execution_count": 11,
   "metadata": {
    "ExecuteTime": {
     "end_time": "2019-11-19T21:43:44.200520",
     "start_time": "2019-11-19T21:43:43.924349"
    },
    "collapsed": true
   },
   "outputs": [],
   "source": [
    "# construct detector and find outliers\n",
    "detector = SSDO(alpha=2.3, k=16, unsupervised_prior='SSDO', contamination=0.1)\n",
    "y_score, y_pred = detector.fit_predict(X)"
   ]
  },
  {
   "cell_type": "code",
   "execution_count": 12,
   "metadata": {
    "ExecuteTime": {
     "end_time": "2019-11-19T21:43:44.452736",
     "start_time": "2019-11-19T21:43:44.227904"
    },
    "collapsed": false
   },
   "outputs": [
    {
     "data": {
      "image/png": "[encoded data removed]",
      "text/plain": [
       "<matplotlib.figure.Figure at 0x1142685c0>"
      ]
     },
     "metadata": {},
     "output_type": "display_data"
    }
   ],
   "source": [
    "plt.figure()\n",
    "for l in [-1, 1]:\n",
    "    ix = np.where(y_pred == l)[0]\n",
    "    c = 'red' if l == 1 else 'blue'\n",
    "    plt.plot(X[ix, 0], X[ix, 1], 'o', color=c)"
   ]
  },
  {
   "cell_type": "code",
   "execution_count": null,
   "metadata": {
    "collapsed": true
   },
   "outputs": [],
   "source": []
  }
 ],
 "metadata": {
  "hide_input": false,
  "kernelspec": {
   "display_name": "Python 3",
   "language": "python",
   "name": "python3"
  },
  "language_info": {
   "codemirror_mode": {
    "name": "ipython",
    "version": 3
   },
   "file_extension": ".py",
   "mimetype": "text/x-python",
   "name": "python",
   "nbconvert_exporter": "python",
   "pygments_lexer": "ipython3",
   "version": "3.5.2"
  },
  "nav_menu": {},
  "toc": {
   "navigate_menu": true,
   "number_sections": true,
   "sideBar": true,
   "threshold": 6,
   "toc_cell": false,
   "toc_section_display": "block",
   "toc_window_display": false
  },
  "varInspector": {
   "cols": {
    "lenName": 16,
    "lenType": 16,
    "lenVar": 40
   },
   "kernels_config": {
    "python": {
     "delete_cmd_postfix": "",
     "delete_cmd_prefix": "del ",
     "library": "var_list.py",
     "varRefreshCmd": "print(var_dic_list())"
    },
    "r": {
     "delete_cmd_postfix": ") ",
     "delete_cmd_prefix": "rm(",
     "library": "var_list.r",
     "varRefreshCmd": "cat(var_dic_list()) "
    }
   },
   "types_to_exclude": [
    "module",
    "function",
    "builtin_function_or_method",
    "instance",
    "_Feature"
   ],
   "window_display": false
  }
 },
 "nbformat": 4,
 "nbformat_minor": 2
}
