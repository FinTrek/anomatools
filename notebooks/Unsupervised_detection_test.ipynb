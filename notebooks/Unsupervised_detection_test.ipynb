{
 "cells": [
  {
   "cell_type": "markdown",
   "metadata": {},
   "source": [
    "# Imports"
   ]
  },
  {
   "cell_type": "code",
   "execution_count": 1,
   "metadata": {
    "ExecuteTime": {
     "end_time": "2018-12-03T18:33:08.888977",
     "start_time": "2018-12-03T18:33:08.482471"
    },
    "collapsed": true
   },
   "outputs": [],
   "source": [
    "import numpy as np\n",
    "\n",
    "import matplotlib.pyplot as plt\n",
    "%matplotlib inline"
   ]
  },
  {
   "cell_type": "markdown",
   "metadata": {},
   "source": [
    "# Generate data"
   ]
  },
  {
   "cell_type": "markdown",
   "metadata": {},
   "source": [
    "Generate a small toy dataset from 3 multivariate Gaussians. Plot the data."
   ]
  },
  {
   "cell_type": "code",
   "execution_count": 2,
   "metadata": {
    "ExecuteTime": {
     "end_time": "2018-12-03T18:33:10.334743",
     "start_time": "2018-12-03T18:33:10.056000"
    },
    "collapsed": false
   },
   "outputs": [
    {
     "data": {
      "text/plain": [
       "[<matplotlib.lines.Line2D at 0x10c1ff278>]"
      ]
     },
     "execution_count": 2,
     "metadata": {},
     "output_type": "execute_result"
    },
    {
     "data": {
      "image/png": "[encoded data removed]",
      "text/plain": [
       "<matplotlib.figure.Figure at 0x10a195320>"
      ]
     },
     "metadata": {},
     "output_type": "display_data"
    }
   ],
   "source": [
    "X = np.vstack((np.random.multivariate_normal([-3, -3], [[1, 0], [0, 1]], 100),\n",
    "               np.random.multivariate_normal([3, 2], [[1, 0], [0, 1]], 50),\n",
    "               np.random.multivariate_normal([8, -1], [[1, 0], [0, 1]], 10)))\n",
    "\n",
    "plt.figure()\n",
    "plt.plot(X[:, 0], X[:, 1], 'o', color='blue')"
   ]
  },
  {
   "cell_type": "markdown",
   "metadata": {},
   "source": [
    "We can clearly see the three clusters in the data. Let's call them: cluster 1, 2, and 3 for respectively the cluster with 100, 50, and 10 instances."
   ]
  },
  {
   "cell_type": "markdown",
   "metadata": {},
   "source": [
    "# Detect outliers"
   ]
  },
  {
   "cell_type": "markdown",
   "metadata": {},
   "source": [
    "## iForest"
   ]
  },
  {
   "cell_type": "code",
   "execution_count": 4,
   "metadata": {
    "ExecuteTime": {
     "end_time": "2018-12-03T18:33:15.717624",
     "start_time": "2018-12-03T18:33:15.714798"
    },
    "collapsed": false
   },
   "outputs": [],
   "source": [
    "from anomatools.anomaly_detection import iForest"
   ]
  },
  {
   "cell_type": "code",
   "execution_count": 5,
   "metadata": {
    "ExecuteTime": {
     "end_time": "2018-12-03T18:33:16.659849",
     "start_time": "2018-12-03T18:33:16.484720"
    },
    "collapsed": false
   },
   "outputs": [
    {
     "name": "stderr",
     "output_type": "stream",
     "text": [
      "/usr/local/var/pyenv/versions/3.5.2/lib/python3.5/site-packages/scipy/stats/stats.py:1713: FutureWarning: Using a non-tuple sequence for multidimensional indexing is deprecated; use `arr[tuple(seq)]` instead of `arr[seq]`. In the future this will be interpreted as an array index, `arr[np.array(seq)]`, which will result either in an error or a different result.\n",
      "  return np.add.reduce(sorted[indexer] * weights, axis=axis) / sumval\n"
     ]
    }
   ],
   "source": [
    "# construct detector and find outliers\n",
    "detector = iForest()\n",
    "y_score, y_pred = detector.fit_predict(X, None)"
   ]
  },
  {
   "cell_type": "markdown",
   "metadata": {},
   "source": [
    "Let's plot the results: red = anomaly, blue = normal"
   ]
  },
  {
   "cell_type": "code",
   "execution_count": 6,
   "metadata": {
    "ExecuteTime": {
     "end_time": "2018-12-03T18:33:17.965021",
     "start_time": "2018-12-03T18:33:17.776978"
    },
    "collapsed": false
   },
   "outputs": [
    {
     "data": {
      "image/png": "[encoded data removed]",
      "text/plain": [
       "<matplotlib.figure.Figure at 0x10e860710>"
      ]
     },
     "metadata": {},
     "output_type": "display_data"
    }
   ],
   "source": [
    "plt.figure()\n",
    "for l in [-1, 1]:\n",
    "    ix = np.where(y_pred == l)[0]\n",
    "    c = 'red' if l == 1 else 'blue'\n",
    "    plt.plot(X[ix, 0], X[ix, 1], 'o', color=c)"
   ]
  },
  {
   "cell_type": "markdown",
   "metadata": {},
   "source": [
    "## iNNe"
   ]
  },
  {
   "cell_type": "code",
   "execution_count": 7,
   "metadata": {
    "ExecuteTime": {
     "end_time": "2018-12-03T18:33:20.761114",
     "start_time": "2018-12-03T18:33:20.758587"
    },
    "collapsed": true
   },
   "outputs": [],
   "source": [
    "from anomatools.anomaly_detection import iNNe"
   ]
  },
  {
   "cell_type": "code",
   "execution_count": 12,
   "metadata": {
    "ExecuteTime": {
     "end_time": "2018-12-03T18:33:26.861569",
     "start_time": "2018-12-03T18:33:26.786684"
    },
    "collapsed": true
   },
   "outputs": [],
   "source": [
    "# construct detector and find outliers\n",
    "detector = iNNe(t=200, n=12)\n",
    "y_score, y_pred = detector.fit_predict(X, None)"
   ]
  },
  {
   "cell_type": "code",
   "execution_count": 13,
   "metadata": {
    "ExecuteTime": {
     "end_time": "2018-12-03T18:33:27.223569",
     "start_time": "2018-12-03T18:33:26.979044"
    },
    "collapsed": false
   },
   "outputs": [
    {
     "data": {
      "image/png": "[encoded data removed]",
      "text/plain": [
       "<matplotlib.figure.Figure at 0x10ea5e2e8>"
      ]
     },
     "metadata": {},
     "output_type": "display_data"
    }
   ],
   "source": [
    "plt.figure()\n",
    "for l in [-1, 1]:\n",
    "    ix = np.where(y_pred == l)[0]\n",
    "    c = 'red' if l == 1 else 'blue'\n",
    "    plt.plot(X[ix, 0], X[ix, 1], 'o', color=c)"
   ]
  },
  {
   "cell_type": "markdown",
   "metadata": {},
   "source": [
    "## kNNo"
   ]
  },
  {
   "cell_type": "code",
   "execution_count": 14,
   "metadata": {
    "ExecuteTime": {
     "end_time": "2018-12-03T18:33:29.548529",
     "start_time": "2018-12-03T18:33:29.546001"
    },
    "collapsed": true
   },
   "outputs": [],
   "source": [
    "from anomatools.anomaly_detection import kNNo"
   ]
  },
  {
   "cell_type": "code",
   "execution_count": 15,
   "metadata": {
    "ExecuteTime": {
     "end_time": "2018-12-03T18:33:29.772332",
     "start_time": "2018-12-03T18:33:29.754397"
    },
    "collapsed": true
   },
   "outputs": [],
   "source": [
    "# construct detector and find outliers\n",
    "detector = kNNo(k=10)\n",
    "y_score, y_pred = detector.fit_predict(X, None)"
   ]
  },
  {
   "cell_type": "code",
   "execution_count": 16,
   "metadata": {
    "ExecuteTime": {
     "end_time": "2018-12-03T18:33:30.243428",
     "start_time": "2018-12-03T18:33:30.001429"
    },
    "collapsed": false
   },
   "outputs": [
    {
     "data": {
      "image/png": "[encoded data removed]",
      "text/plain": [
       "<matplotlib.figure.Figure at 0x10e860128>"
      ]
     },
     "metadata": {},
     "output_type": "display_data"
    }
   ],
   "source": [
    "plt.figure()\n",
    "for l in [-1, 1]:\n",
    "    ix = np.where(y_pred == l)[0]\n",
    "    c = 'red' if l == 1 else 'blue'\n",
    "    plt.plot(X[ix, 0], X[ix, 1], 'o', color=c)"
   ]
  },
  {
   "cell_type": "code",
   "execution_count": null,
   "metadata": {
    "collapsed": true
   },
   "outputs": [],
   "source": []
  }
 ],
 "metadata": {
  "kernelspec": {
   "display_name": "Python 3",
   "language": "python",
   "name": "python3"
  },
  "language_info": {
   "codemirror_mode": {
    "name": "ipython",
    "version": 3
   },
   "file_extension": ".py",
   "mimetype": "text/x-python",
   "name": "python",
   "nbconvert_exporter": "python",
   "pygments_lexer": "ipython3",
   "version": "3.5.2"
  },
  "nav_menu": {},
  "toc": {
   "navigate_menu": true,
   "number_sections": true,
   "sideBar": true,
   "threshold": 6,
   "toc_cell": false,
   "toc_section_display": "block",
   "toc_window_display": false
  }
 },
 "nbformat": 4,
 "nbformat_minor": 2
}
