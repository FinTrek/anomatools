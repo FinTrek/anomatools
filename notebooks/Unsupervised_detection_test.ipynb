{
 "cells": [
  {
   "cell_type": "markdown",
   "metadata": {},
   "source": [
    "# Imports"
   ]
  },
  {
   "cell_type": "code",
   "execution_count": 1,
   "metadata": {
    "ExecuteTime": {
     "end_time": "2019-11-19T14:18:04.523889Z",
     "start_time": "2019-11-19T14:17:50.888383Z"
    }
   },
   "outputs": [],
   "source": [
    "import numpy as np\n",
    "\n",
    "import matplotlib.pyplot as plt\n",
    "import seaborn as sns\n",
    "sns.set()\n",
    "%matplotlib inline"
   ]
  },
  {
   "cell_type": "code",
   "execution_count": 11,
   "metadata": {
    "ExecuteTime": {
     "end_time": "2019-11-19T14:38:52.895157Z",
     "start_time": "2019-11-19T14:38:52.892006Z"
    }
   },
   "outputs": [],
   "source": [
    "from sklearn.utils.validation import check_X_y\n",
    "from sklearn.base import BaseEstimator"
   ]
  },
  {
   "cell_type": "code",
   "execution_count": 16,
   "metadata": {
    "ExecuteTime": {
     "end_time": "2019-11-19T14:40:23.530654Z",
     "start_time": "2019-11-19T14:40:23.515423Z"
    }
   },
   "outputs": [],
   "source": [
    "class clf(BaseEstimator):\n",
    "    \n",
    "    def __init__(self, k=10, b=3):\n",
    "        super().__init__()\n",
    "        \n",
    "        self.k = k\n",
    "        self.b = b\n",
    "    \n",
    "    def get_b(self):\n",
    "        \n",
    "        return self.b"
   ]
  },
  {
   "cell_type": "code",
   "execution_count": 17,
   "metadata": {
    "ExecuteTime": {
     "end_time": "2019-11-19T14:40:23.891259Z",
     "start_time": "2019-11-19T14:40:23.888297Z"
    }
   },
   "outputs": [],
   "source": [
    "myclf = clf(10, 70)\n",
    "myclf2 = clf(20, 20)"
   ]
  },
  {
   "cell_type": "code",
   "execution_count": 18,
   "metadata": {
    "ExecuteTime": {
     "end_time": "2019-11-19T14:40:29.695127Z",
     "start_time": "2019-11-19T14:40:29.690444Z"
    }
   },
   "outputs": [
    {
     "data": {
      "text/plain": [
       "{'b': 70, 'k': 10}"
      ]
     },
     "execution_count": 18,
     "metadata": {},
     "output_type": "execute_result"
    }
   ],
   "source": [
    "myclf.get_params()"
   ]
  },
  {
   "cell_type": "code",
   "execution_count": 19,
   "metadata": {
    "ExecuteTime": {
     "end_time": "2019-11-19T14:40:39.644601Z",
     "start_time": "2019-11-19T14:40:39.634678Z"
    }
   },
   "outputs": [
    {
     "data": {
      "text/plain": [
       "{'b': 20, 'k': 20}"
      ]
     },
     "execution_count": 19,
     "metadata": {},
     "output_type": "execute_result"
    }
   ],
   "source": [
    "myclf2.get_params()"
   ]
  },
  {
   "cell_type": "code",
   "execution_count": 21,
   "metadata": {
    "ExecuteTime": {
     "end_time": "2019-11-19T16:03:40.771558Z",
     "start_time": "2019-11-19T16:03:40.757831Z"
    }
   },
   "outputs": [
    {
     "ename": "ValueError",
     "evalue": "y cannot be None",
     "output_type": "error",
     "traceback": [
      "\u001b[0;31m---------------------------------------------------------------------------\u001b[0m",
      "\u001b[0;31mValueError\u001b[0m                                Traceback (most recent call last)",
      "\u001b[0;32m<ipython-input-21-c3c35e70361a>\u001b[0m in \u001b[0;36m<module>\u001b[0;34m()\u001b[0m\n\u001b[0;32m----> 1\u001b[0;31m \u001b[0mcheck_X_y\u001b[0m\u001b[0;34m(\u001b[0m\u001b[0mX\u001b[0m\u001b[0;34m,\u001b[0m \u001b[0;32mNone\u001b[0m\u001b[0;34m)\u001b[0m\u001b[0;34m\u001b[0m\u001b[0m\n\u001b[0m",
      "\u001b[0;32m/cw/dtaijupiter/NoCsBack/dtai/vincent/virtualenvs/venv_python3.5.2/lib/python3.5/site-packages/sklearn/utils/validation.py\u001b[0m in \u001b[0;36mcheck_X_y\u001b[0;34m(X, y, accept_sparse, accept_large_sparse, dtype, order, copy, force_all_finite, ensure_2d, allow_nd, multi_output, ensure_min_samples, ensure_min_features, y_numeric, warn_on_dtype, estimator)\u001b[0m\n\u001b[1;32m    707\u001b[0m     \"\"\"\n\u001b[1;32m    708\u001b[0m     \u001b[0;32mif\u001b[0m \u001b[0my\u001b[0m \u001b[0;32mis\u001b[0m \u001b[0;32mNone\u001b[0m\u001b[0;34m:\u001b[0m\u001b[0;34m\u001b[0m\u001b[0m\n\u001b[0;32m--> 709\u001b[0;31m         \u001b[0;32mraise\u001b[0m \u001b[0mValueError\u001b[0m\u001b[0;34m(\u001b[0m\u001b[0;34m\"y cannot be None\"\u001b[0m\u001b[0;34m)\u001b[0m\u001b[0;34m\u001b[0m\u001b[0m\n\u001b[0m\u001b[1;32m    710\u001b[0m \u001b[0;34m\u001b[0m\u001b[0m\n\u001b[1;32m    711\u001b[0m     X = check_array(X, accept_sparse=accept_sparse,\n",
      "\u001b[0;31mValueError\u001b[0m: y cannot be None"
     ]
    }
   ],
   "source": [
    "check_X_y(X, None)"
   ]
  },
  {
   "cell_type": "code",
   "execution_count": 2,
   "metadata": {
    "ExecuteTime": {
     "end_time": "2019-11-19T14:18:17.256669Z",
     "start_time": "2019-11-19T14:18:16.702111Z"
    }
   },
   "outputs": [
    {
     "ename": "ImportError",
     "evalue": "No module named 'anomatools.anomaly_detection.Ssdo'",
     "output_type": "error",
     "traceback": [
      "\u001b[0;31m---------------------------------------------------------------------------\u001b[0m",
      "\u001b[0;31mImportError\u001b[0m                               Traceback (most recent call last)",
      "\u001b[0;32m<ipython-input-2-a48a2f44aca9>\u001b[0m in \u001b[0;36m<module>\u001b[0;34m()\u001b[0m\n\u001b[0;32m----> 1\u001b[0;31m \u001b[0;32mimport\u001b[0m \u001b[0manomatools\u001b[0m \u001b[0;32mas\u001b[0m \u001b[0matools\u001b[0m\u001b[0;34m\u001b[0m\u001b[0m\n\u001b[0m",
      "\u001b[0;32m/cw/dtaijupiter/NoCsBack/dtai/vincent/projects/anomatools/anomatools/__init__.py\u001b[0m in \u001b[0;36m<module>\u001b[0;34m()\u001b[0m\n\u001b[1;32m      1\u001b[0m \u001b[0;34m\u001b[0m\u001b[0m\n\u001b[1;32m      2\u001b[0m \u001b[0;31m# load submodules\u001b[0m\u001b[0;34m\u001b[0m\u001b[0;34m\u001b[0m\u001b[0m\n\u001b[0;32m----> 3\u001b[0;31m \u001b[0;32mfrom\u001b[0m \u001b[0;34m.\u001b[0m \u001b[0;32mimport\u001b[0m \u001b[0manomaly_detection\u001b[0m\u001b[0;34m\u001b[0m\u001b[0m\n\u001b[0m\u001b[1;32m      4\u001b[0m \u001b[0;32mfrom\u001b[0m \u001b[0;34m.\u001b[0m \u001b[0;32mimport\u001b[0m \u001b[0mclustering\u001b[0m\u001b[0;34m\u001b[0m\u001b[0m\n",
      "\u001b[0;32m/cw/dtaijupiter/NoCsBack/dtai/vincent/projects/anomatools/anomatools/anomaly_detection/__init__.py\u001b[0m in \u001b[0;36m<module>\u001b[0;34m()\u001b[0m\n\u001b[1;32m      1\u001b[0m \u001b[0;34m\u001b[0m\u001b[0m\n\u001b[1;32m      2\u001b[0m \u001b[0;32mfrom\u001b[0m \u001b[0;34m.\u001b[0m\u001b[0mBaseDetector\u001b[0m \u001b[0;32mimport\u001b[0m \u001b[0mBaseDetector\u001b[0m\u001b[0;34m\u001b[0m\u001b[0m\n\u001b[0;32m----> 3\u001b[0;31m \u001b[0;32mfrom\u001b[0m \u001b[0;34m.\u001b[0m\u001b[0mSsdo\u001b[0m \u001b[0;32mimport\u001b[0m \u001b[0mSsdo\u001b[0m\u001b[0;34m\u001b[0m\u001b[0m\n\u001b[0m\u001b[1;32m      4\u001b[0m \u001b[0;32mfrom\u001b[0m \u001b[0;34m.\u001b[0m\u001b[0mInne\u001b[0m \u001b[0;32mimport\u001b[0m \u001b[0mInne\u001b[0m\u001b[0;34m\u001b[0m\u001b[0m\n\u001b[1;32m      5\u001b[0m \u001b[0;32mfrom\u001b[0m \u001b[0;34m.\u001b[0m\u001b[0mKnno\u001b[0m \u001b[0;32mimport\u001b[0m \u001b[0mKnno\u001b[0m\u001b[0;34m\u001b[0m\u001b[0m\n",
      "\u001b[0;31mImportError\u001b[0m: No module named 'anomatools.anomaly_detection.Ssdo'"
     ]
    }
   ],
   "source": [
    "import anomatools as atools"
   ]
  },
  {
   "cell_type": "code",
   "execution_count": null,
   "metadata": {},
   "outputs": [],
   "source": []
  },
  {
   "cell_type": "code",
   "execution_count": null,
   "metadata": {},
   "outputs": [],
   "source": []
  },
  {
   "cell_type": "code",
   "execution_count": null,
   "metadata": {},
   "outputs": [],
   "source": []
  },
  {
   "cell_type": "code",
   "execution_count": null,
   "metadata": {},
   "outputs": [],
   "source": []
  },
  {
   "cell_type": "code",
   "execution_count": null,
   "metadata": {},
   "outputs": [],
   "source": []
  },
  {
   "cell_type": "code",
   "execution_count": null,
   "metadata": {},
   "outputs": [],
   "source": []
  },
  {
   "cell_type": "code",
   "execution_count": null,
   "metadata": {},
   "outputs": [],
   "source": []
  },
  {
   "cell_type": "code",
   "execution_count": null,
   "metadata": {},
   "outputs": [],
   "source": []
  },
  {
   "cell_type": "markdown",
   "metadata": {},
   "source": [
    "# Generate data"
   ]
  },
  {
   "cell_type": "markdown",
   "metadata": {},
   "source": [
    "Generate a small toy dataset from 3 multivariate Gaussians. Plot the data."
   ]
  },
  {
   "cell_type": "code",
   "execution_count": 4,
   "metadata": {
    "ExecuteTime": {
     "end_time": "2019-11-19T14:35:20.091649Z",
     "start_time": "2019-11-19T14:35:19.829595Z"
    }
   },
   "outputs": [
    {
     "data": {
      "text/plain": [
       "[<matplotlib.lines.Line2D at 0x7faded648390>]"
      ]
     },
     "execution_count": 4,
     "metadata": {},
     "output_type": "execute_result"
    },
    {
     "data": {
      "image/png": "[encoded data removed]",
      "text/plain": [
       "<Figure size 432x288 with 1 Axes>"
      ]
     },
     "metadata": {},
     "output_type": "display_data"
    }
   ],
   "source": [
    "X = np.vstack((np.random.multivariate_normal([-3, -3], [[1, 0], [0, 1]], 100),\n",
    "               np.random.multivariate_normal([3, 2], [[1, 0], [0, 1]], 50),\n",
    "               np.random.multivariate_normal([8, -1], [[1, 0], [0, 1]], 10)))\n",
    "np.random.shuffle(X)\n",
    "\n",
    "plt.figure()\n",
    "plt.plot(X[:, 0], X[:, 1], 'o', color='blue')"
   ]
  },
  {
   "cell_type": "markdown",
   "metadata": {},
   "source": [
    "We can clearly see the three clusters in the data. Let's call them: cluster 1, 2, and 3 for respectively the cluster with 100, 50, and 10 instances."
   ]
  },
  {
   "cell_type": "markdown",
   "metadata": {},
   "source": [
    "# Detect outliers"
   ]
  },
  {
   "cell_type": "markdown",
   "metadata": {},
   "source": [
    "## iNNe"
   ]
  },
  {
   "cell_type": "code",
   "execution_count": 3,
   "metadata": {
    "ExecuteTime": {
     "end_time": "2019-06-21T09:52:29.102599Z",
     "start_time": "2019-06-21T09:52:27.471206Z"
    }
   },
   "outputs": [],
   "source": [
    "from anomatools.anomaly_detection import iNNe"
   ]
  },
  {
   "cell_type": "code",
   "execution_count": 4,
   "metadata": {
    "ExecuteTime": {
     "end_time": "2019-06-21T09:52:31.148740Z",
     "start_time": "2019-06-21T09:52:30.917646Z"
    }
   },
   "outputs": [],
   "source": [
    "# construct detector and find outliers\n",
    "detector = iNNe(t=200, n=12)\n",
    "y_score, y_pred = detector.fit_predict(X, None)"
   ]
  },
  {
   "cell_type": "code",
   "execution_count": 5,
   "metadata": {
    "ExecuteTime": {
     "end_time": "2019-06-21T09:52:32.378347Z",
     "start_time": "2019-06-21T09:52:32.213696Z"
    }
   },
   "outputs": [
    {
     "data": {
      "image/png": "[encoded data removed]",
      "text/plain": [
       "<Figure size 432x288 with 1 Axes>"
      ]
     },
     "metadata": {},
     "output_type": "display_data"
    }
   ],
   "source": [
    "plt.figure()\n",
    "for l in [-1, 1]:\n",
    "    ix = np.where(y_pred == l)[0]\n",
    "    c = 'red' if l == 1 else 'blue'\n",
    "    plt.plot(X[ix, 0], X[ix, 1], 'o', color=c)"
   ]
  },
  {
   "cell_type": "markdown",
   "metadata": {},
   "source": [
    "## kNNo"
   ]
  },
  {
   "cell_type": "code",
   "execution_count": 6,
   "metadata": {
    "ExecuteTime": {
     "end_time": "2019-06-21T09:52:35.478560Z",
     "start_time": "2019-06-21T09:52:35.476241Z"
    }
   },
   "outputs": [],
   "source": [
    "from anomatools.anomaly_detection import kNNo"
   ]
  },
  {
   "cell_type": "code",
   "execution_count": 7,
   "metadata": {
    "ExecuteTime": {
     "end_time": "2019-06-21T09:52:35.908614Z",
     "start_time": "2019-06-21T09:52:35.892584Z"
    }
   },
   "outputs": [],
   "source": [
    "# construct detector and find outliers\n",
    "detector = kNNo(k=10)\n",
    "y_score, y_pred = detector.fit_predict(X, None)"
   ]
  },
  {
   "cell_type": "code",
   "execution_count": 8,
   "metadata": {
    "ExecuteTime": {
     "end_time": "2019-06-21T09:52:36.369436Z",
     "start_time": "2019-06-21T09:52:36.196232Z"
    }
   },
   "outputs": [
    {
     "data": {
      "image/png": "[encoded data removed]",
      "text/plain": [
       "<Figure size 432x288 with 1 Axes>"
      ]
     },
     "metadata": {},
     "output_type": "display_data"
    }
   ],
   "source": [
    "plt.figure()\n",
    "for l in [-1, 1]:\n",
    "    ix = np.where(y_pred == l)[0]\n",
    "    c = 'red' if l == 1 else 'blue'\n",
    "    plt.plot(X[ix, 0], X[ix, 1], 'o', color=c)"
   ]
  },
  {
   "cell_type": "markdown",
   "metadata": {
    "collapsed": true
   },
   "source": [
    "## LOF as the base classifier for SSDO"
   ]
  },
  {
   "cell_type": "code",
   "execution_count": 3,
   "metadata": {
    "ExecuteTime": {
     "end_time": "2019-07-18T13:54:03.189995Z",
     "start_time": "2019-07-18T13:54:02.996546Z"
    }
   },
   "outputs": [],
   "source": [
    "from anomatools.anomaly_detection import SSDO"
   ]
  },
  {
   "cell_type": "code",
   "execution_count": 16,
   "metadata": {
    "ExecuteTime": {
     "end_time": "2019-07-18T13:55:39.879917Z",
     "start_time": "2019-07-18T13:55:39.862263Z"
    }
   },
   "outputs": [],
   "source": [
    "# construct detector and find outliers\n",
    "detector = SSDO(alpha=2.3, k=16, base_classifier='LOF', contamination=0.1, base_classifier_parameters={'n_neighbors': 6, 'contamination': 0.1})\n",
    "y_score, y_pred = detector.fit_predict(X, None)"
   ]
  },
  {
   "cell_type": "code",
   "execution_count": 17,
   "metadata": {
    "ExecuteTime": {
     "end_time": "2019-07-18T13:55:40.521940Z",
     "start_time": "2019-07-18T13:55:40.300498Z"
    }
   },
   "outputs": [
    {
     "data": {
      "image/png": "[encoded data removed]",
      "text/plain": [
       "<Figure size 432x288 with 1 Axes>"
      ]
     },
     "metadata": {},
     "output_type": "display_data"
    }
   ],
   "source": [
    "plt.figure()\n",
    "for l in [-1, 1]:\n",
    "    ix = np.where(y_pred == l)[0]\n",
    "    c = 'red' if l == 1 else 'blue'\n",
    "    plt.plot(X[ix, 0], X[ix, 1], 'o', color=c)"
   ]
  },
  {
   "cell_type": "code",
   "execution_count": null,
   "metadata": {},
   "outputs": [],
   "source": []
  }
 ],
 "metadata": {
  "hide_input": false,
  "kernelspec": {
   "display_name": "Python 3",
   "language": "python",
   "name": "python3"
  },
  "language_info": {
   "codemirror_mode": {
    "name": "ipython",
    "version": 3
   },
   "file_extension": ".py",
   "mimetype": "text/x-python",
   "name": "python",
   "nbconvert_exporter": "python",
   "pygments_lexer": "ipython3",
   "version": "3.5.2"
  },
  "nav_menu": {},
  "toc": {
   "base_numbering": 1,
   "nav_menu": {},
   "number_sections": true,
   "sideBar": true,
   "skip_h1_title": false,
   "title_cell": "Table of Contents",
   "title_sidebar": "Contents",
   "toc_cell": false,
   "toc_position": {},
   "toc_section_display": "block",
   "toc_window_display": false
  },
  "varInspector": {
   "cols": {
    "lenName": 16,
    "lenType": 16,
    "lenVar": 40
   },
   "kernels_config": {
    "python": {
     "delete_cmd_postfix": "",
     "delete_cmd_prefix": "del ",
     "library": "var_list.py",
     "varRefreshCmd": "print(var_dic_list())"
    },
    "r": {
     "delete_cmd_postfix": ") ",
     "delete_cmd_prefix": "rm(",
     "library": "var_list.r",
     "varRefreshCmd": "cat(var_dic_list()) "
    }
   },
   "types_to_exclude": [
    "module",
    "function",
    "builtin_function_or_method",
    "instance",
    "_Feature"
   ],
   "window_display": false
  }
 },
 "nbformat": 4,
 "nbformat_minor": 2
}
